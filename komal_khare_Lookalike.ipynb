{
  "nbformat": 4,
  "nbformat_minor": 0,
  "metadata": {
    "colab": {
      "provenance": []
    },
    "kernelspec": {
      "name": "python3",
      "display_name": "Python 3"
    },
    "language_info": {
      "name": "python"
    }
  },
  "cells": [
    {
      "cell_type": "code",
      "source": [
        "# Task 2: Lookalike Model\n",
        "# Prepare the dataset for similarity computation\n",
        "customer_profiles = merged_data.groupby('CustomerID').agg({\n",
        "    'Price_y': 'mean', 'TotalValue': 'sum', 'Quantity': 'sum'\n",
        "}).reset_index()\n"
      ],
      "metadata": {
        "id": "8GMF5jO-kZGX"
      },
      "execution_count": 10,
      "outputs": []
    },
    {
      "cell_type": "code",
      "source": [],
      "metadata": {
        "id": "l_eRQp8hkrVN"
      },
      "execution_count": null,
      "outputs": []
    },
    {
      "cell_type": "code",
      "source": [
        "# Normalize data\n",
        "scaler = StandardScaler()\n",
        "customer_profiles_scaled = scaler.fit_transform(customer_profiles.iloc[:, 1:])"
      ],
      "metadata": {
        "id": "V_vrKKPQkZNr"
      },
      "execution_count": 11,
      "outputs": []
    },
    {
      "cell_type": "code",
      "source": [
        "# Compute cosine similarity\n",
        "similarity_matrix = cosine_similarity(customer_profiles_scaled)"
      ],
      "metadata": {
        "id": "6XLyvSHwktFl"
      },
      "execution_count": 13,
      "outputs": []
    },
    {
      "cell_type": "code",
      "source": [
        "# Recommend top 3 similar customers\n",
        "lookalikes = {}\n",
        "for idx, customer_id in enumerate(customer_profiles['CustomerID'][:20]):\n",
        "    similar_indices = np.argsort(-similarity_matrix[idx])[1:4]  # Top 3 similar\n",
        "    lookalikes[customer_id] = [(customer_profiles['CustomerID'][i], similarity_matrix[idx][i]) for i in similar_indices]\n"
      ],
      "metadata": {
        "id": "t_79oNhlkZQL"
      },
      "execution_count": 14,
      "outputs": []
    },
    {
      "cell_type": "code",
      "source": [
        "\n",
        "# Save lookalike recommendations\n",
        "lookalike_df = pd.DataFrame.from_dict(lookalikes, orient='index', columns=['Customer_1', 'Customer_2', 'Customer_3'])\n",
        "lookalike_df.to_csv('komal_Khare_Lookalike.csv', index_label='CustomerID')\n"
      ],
      "metadata": {
        "id": "oPqVNcj5kZSy"
      },
      "execution_count": 15,
      "outputs": []
    },
    {
      "cell_type": "code",
      "source": [],
      "metadata": {
        "id": "-Ye5eLZfkZWN"
      },
      "execution_count": null,
      "outputs": []
    }
  ]
}